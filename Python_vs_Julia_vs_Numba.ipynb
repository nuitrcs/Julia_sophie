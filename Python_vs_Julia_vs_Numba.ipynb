{
  "nbformat": 4,
  "nbformat_minor": 0,
  "metadata": {
    "colab": {
      "provenance": [],
      "authorship_tag": "ABX9TyPerLS9/50gFnDgjNPz5yrE",
      "include_colab_link": true
    },
    "kernelspec": {
      "name": "julia",
      "display_name": "julia 1.9.3"
    }
  },
  "cells": [
    {
      "cell_type": "markdown",
      "metadata": {
        "id": "view-in-github",
        "colab_type": "text"
      },
      "source": [
        "<a href=\"https://colab.research.google.com/github/svangenderen/Julia/blob/main/Python_vs_Julia_vs_Numba.ipynb\" target=\"_parent\"><img src=\"https://colab.research.google.com/assets/colab-badge.svg\" alt=\"Open In Colab\"/></a>"
      ]
    },
    {
      "cell_type": "code",
      "metadata": {
        "id": "GIeFXS0F0zww",
        "colab": {
          "base_uri": "https://localhost:8080/"
        },
        "outputId": "074fdf68-6378-4ceb-e958-583d02992c5e"
      },
      "source": [
        "%%shell\n",
        "set -e\n",
        "\n",
        "#---------------------------------------------------#\n",
        "JULIA_VERSION=\"1.9.3\" # any version ≥ 0.7.0\n",
        "JULIA_PACKAGES=\"IJulia BenchmarkTools\"\n",
        "JULIA_PACKAGES_IF_GPU=\"CUDA\" # or CuArrays for older Julia versions\n",
        "JULIA_NUM_THREADS=2\n",
        "#---------------------------------------------------#\n",
        "\n",
        "if [ -z `which julia` ]; then\n",
        "  # Install Julia\n",
        "  JULIA_VER=`cut -d '.' -f -2 <<< \"$JULIA_VERSION\"`\n",
        "  echo \"Installing Julia $JULIA_VERSION on the current Colab Runtime...\"\n",
        "  BASE_URL=\"https://julialang-s3.julialang.org/bin/linux/x64\"\n",
        "  URL=\"$BASE_URL/$JULIA_VER/julia-$JULIA_VERSION-linux-x86_64.tar.gz\"\n",
        "  wget -nv $URL -O /tmp/julia.tar.gz # -nv means \"not verbose\"\n",
        "  tar -x -f /tmp/julia.tar.gz -C /usr/local --strip-components 1\n",
        "  rm /tmp/julia.tar.gz\n",
        "\n",
        "  # Install Packages\n",
        "  nvidia-smi -L &> /dev/null && export GPU=1 || export GPU=0\n",
        "  if [ $GPU -eq 1 ]; then\n",
        "    JULIA_PACKAGES=\"$JULIA_PACKAGES $JULIA_PACKAGES_IF_GPU\"\n",
        "  fi\n",
        "  for PKG in `echo $JULIA_PACKAGES`; do\n",
        "    echo \"Installing Julia package $PKG...\"\n",
        "    julia -e 'using Pkg; pkg\"add '$PKG'; precompile;\"' &> /dev/null\n",
        "  done\n",
        "\n",
        "  # Install kernel and rename it to \"julia\"\n",
        "  echo \"Installing IJulia kernel...\"\n",
        "  julia -e 'using IJulia; IJulia.installkernel(\"julia\", env=Dict(\n",
        "      \"JULIA_NUM_THREADS\"=>\"'\"$JULIA_NUM_THREADS\"'\"))'\n",
        "  KERNEL_DIR=`julia -e \"using IJulia; print(IJulia.kerneldir())\"`\n",
        "  KERNEL_NAME=`ls -d \"$KERNEL_DIR\"/julia*`\n",
        "  mv -f $KERNEL_NAME \"$KERNEL_DIR\"/julia\n",
        "\n",
        "  echo ''\n",
        "  echo \"Successfully installed `julia -v`!\"\n",
        "  echo \"Please reload this page (press Ctrl+R, ⌘+R, or the F5 key) then\"\n",
        "  echo \"jump to the 'Checking the Installation' section.\"\n",
        "fi"
      ],
      "execution_count": 8,
      "outputs": [
        {
          "output_type": "stream",
          "name": "stdout",
          "text": [
            "Installing Julia 1.9.3 on the current Colab Runtime...\n",
            "2023-11-30 01:01:46 URL:https://storage.googleapis.com/julialang2/bin/linux/x64/1.9/julia-1.9.3-linux-x86_64.tar.gz [146268149/146268149] -> \"/tmp/julia.tar.gz\" [1]\n",
            "Installing Julia package IJulia...\n",
            "Installing Julia package BenchmarkTools...\n",
            "Installing IJulia kernel...\n",
            "\u001b[36m\u001b[1m[ \u001b[22m\u001b[39m\u001b[36m\u001b[1mInfo: \u001b[22m\u001b[39mInstalling julia kernelspec in /root/.local/share/jupyter/kernels/julia-1.9\n",
            "\n",
            "Successfully installed julia version 1.9.3!\n",
            "Please reload this page (press Ctrl+R, ⌘+R, or the F5 key) then\n",
            "jump to the 'Checking the Installation' section.\n"
          ]
        },
        {
          "output_type": "execute_result",
          "data": {
            "text/plain": []
          },
          "metadata": {},
          "execution_count": 8
        }
      ]
    },
    {
      "cell_type": "code",
      "source": [
        "# Julia\n",
        "@time for i in 1:100\n",
        "    a = rand(1000, 1000)\n",
        "    b = rand(1000)\n",
        "    x = a \\ b\n",
        "end"
      ],
      "metadata": {
        "colab": {
          "base_uri": "https://localhost:8080/"
        },
        "id": "vgXLd3wDuRYS",
        "outputId": "c25132b1-5fbb-4282-f082-9c0f7a4d1a52"
      },
      "execution_count": 2,
      "outputs": [
        {
          "output_type": "stream",
          "name": "stdout",
          "text": [
            "  3.420835 seconds (700 allocations: 1.492 GiB, 3.14% gc time)\n",
            "  3.289791 seconds (700 allocations: 1.492 GiB, 1.71% gc time)\n"
          ]
        }
      ]
    },
    {
      "cell_type": "code",
      "execution_count": 2,
      "metadata": {
        "colab": {
          "base_uri": "https://localhost:8080/"
        },
        "id": "bRKgOy4at5-3",
        "outputId": "6a178714-4b88-42e3-b284-d367358f700b"
      },
      "outputs": [
        {
          "output_type": "stream",
          "name": "stdout",
          "text": [
            "7.275834083557129\n"
          ]
        }
      ],
      "source": [
        "# Python with NumPy\n",
        "import numpy as np\n",
        "from time import time\n",
        "\n",
        "\n",
        "\n",
        "start = time()\n",
        "for i in range(100):\n",
        "    a = np.random.rand(1000, 1000)\n",
        "    b = np.random.rand(1000)\n",
        "    x = np.linalg.solve(a, b)\n",
        "end = time()\n",
        "\n",
        "print(end - start)"
      ]
    },
    {
      "cell_type": "code",
      "source": [
        "# Python with Numba\n",
        "from numba import jit\n",
        "import numpy as np\n",
        "from time import time\n",
        "\n",
        "@jit(nopython=True)\n",
        "def solve_equation(a, b):\n",
        "    n = len(b)\n",
        "    x = np.empty(n)\n",
        "\n",
        "    for i in range(n):\n",
        "        x[i] = b[i] / a[i, i]\n",
        "        for j in range(i + 1, n):\n",
        "            b[j] -= a[j, i] * x[i]\n",
        "\n",
        "    for i in range(n - 1, -1, -1):\n",
        "        for j in range(i + 1, n):\n",
        "            x[i] -= a[i, j] * x[j]\n",
        "        x[i] /= a[i, i]\n",
        "\n",
        "    return x\n",
        "\n",
        "@jit(nopython=True)\n",
        "def run_code(x):\n",
        "    for i in range(x):\n",
        "        a = np.random.rand(1000, 1000)\n",
        "        b = np.random.rand(1000)\n",
        "        c = solve_equation(a, b)\n",
        "\n",
        "start = time()\n",
        "run_code(100)\n",
        "end = time()\n",
        "print((end - start), \"seconds\")"
      ],
      "metadata": {
        "colab": {
          "base_uri": "https://localhost:8080/"
        },
        "id": "ZOvl3jrJucfN",
        "outputId": "dc8f60fd-1313-43ba-fcdb-df7786137cc2"
      },
      "execution_count": 3,
      "outputs": [
        {
          "output_type": "stream",
          "name": "stdout",
          "text": [
            "2.7883758544921875 seconds\n"
          ]
        }
      ]
    }
  ]
}